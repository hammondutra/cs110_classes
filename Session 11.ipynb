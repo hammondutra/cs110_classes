{
 "cells": [
  {
   "cell_type": "code",
   "execution_count": null,
   "id": "5fafc85e",
   "metadata": {
    "vscode": {
     "languageId": "sage"
    }
   },
   "outputs": [],
   "source": [
    "class RotationCity(City):\n",
    "    def __init__(self, city_name, population, m_class):\n",
    "        City.__init__(self, city_name, population)\n",
    "        self.m_class = [m_class]"
   ]
  },
  {
   "cell_type": "code",
   "execution_count": null,
   "id": "bab928a3",
   "metadata": {
    "vscode": {
     "languageId": "sage"
    }
   },
   "outputs": [],
   "source": [
    "class Car:\n",
    "  def __init__(self, brand, model, fuel_type):\n",
    "    self.brand = brand\n",
    "    self.model = model\n",
    "    self.fuel_type = fuel_type\n",
    "    self.is_running = False\n",
    "    self.nitro_level = 0\n",
    "\n",
    "  def start(self):\n",
    "    if not self.is_running:\n",
    "      self.is_running = True\n",
    "      print(f\"{self.brand} {self.model} started!\")\n",
    "    else:\n",
    "      print(f\"{self.brand} {self.model} is already running.\")\n",
    "\n",
    "  def turn_off(self):\n",
    "    if self.is_running:\n",
    "      self.is_running = False\n",
    "      print(f\"{self.brand} {self.model} turned off.\")\n",
    "    else:\n",
    "      print(f\"{self.brand} {self.model} is already off.\")\n",
    "\n",
    "  def refill_nitro(self, amount):\n",
    "    self.nitro_level += amount\n",
    "    print(f\"Refilled {amount} units of nitro. Current nitro level: {self.nitro_level}\")\n",
    "\n",
    "  def use_boost(self):\n",
    "    if self.is_running and self.nitro_level > 0:\n",
    "      self.nitro_level -= 1\n",
    "      print(f\"{self.brand} {self.model} used nitro boost! Remaining nitro: {self.nitro_level}\")\n",
    "    elif not self.is_running:\n",
    "      print(f\"Start the {self.model} before using boost.\")\n",
    "    else:\n",
    "      print(\"No nitro left! Refill before using boost.\")\n"
   ]
  },
  {
   "cell_type": "code",
   "execution_count": null,
   "id": "62221c75",
   "metadata": {
    "vscode": {
     "languageId": "sage"
    }
   },
   "outputs": [],
   "source": [
    "class Animal:\n",
    "  def eat(self):\n",
    "    print(\"The animal is eating\")\n",
    "\n",
    "class Cat(Animal):\n",
    "  def meow(self):\n",
    "    print(\"Meow!\")"
   ]
  },
  {
   "cell_type": "code",
   "execution_count": null,
   "id": "f88bcc3a",
   "metadata": {
    "vscode": {
     "languageId": "sage"
    }
   },
   "outputs": [],
   "source": [
    "class Car:\n",
    "  def __init__(self, brand, model):\n",
    "    self.brand = brand\n",
    "    self.model = model\n",
    "\n",
    "my_car = Car(\"Mercedes-Benz\", \"SLS AMG\") # Let's say this is an object at place X in memory\n",
    "print(my_car.brand) # Prints Mercedes-Benz"
   ]
  },
  {
   "cell_type": "code",
   "execution_count": null,
   "id": "8b70fa47",
   "metadata": {
    "vscode": {
     "languageId": "sage"
    }
   },
   "outputs": [],
   "source": [
    "def bogosort(data):\n",
    "  # Keeps shuffling the array until it is sorted (lol)\n",
    "  while data != data.sorted():\n",
    "    data.shuffle()"
   ]
  },
  {
   "cell_type": "code",
   "execution_count": null,
   "id": "49b3bad3",
   "metadata": {
    "vscode": {
     "languageId": "sage"
    }
   },
   "outputs": [],
   "source": [
    "class SillySortingAlgos:\n",
    "    def __init__(self, data):\n",
    "        self.data = data\n",
    "\n",
    "    def is_sorted(self):\n",
    "        return all(self.data[i] <= self.data[i + 1] for i in range(len(self.data) - 1))\n",
    "\n",
    "    def bogosort(self):\n",
    "        # Keeps shuffling until the list is sorted (lol)\n",
    "        while data != data.sorted():\n",
    "            random.shuffle(self.data)\n",
    "        return self.data\n",
    "\n",
    "    def miraclesort(data, check_interval=1000):\n",
    "    \"\"\"\n",
    "    Do nothing except occasionally check if data is sorted,\n",
    "    and hope some “miracle” has sorted it externally (even more lol)\n",
    "    \"\"\"\n",
    "      while data != data.sorted():\n",
    "          for _ in range(check_interval):\n",
    "              pass\n",
    "          # After waiting, check again. If sorted, loop ends.\n",
    "      return data"
   ]
  },
  {
   "cell_type": "code",
   "execution_count": null,
   "id": "76190114",
   "metadata": {
    "vscode": {
     "languageId": "sage"
    }
   },
   "outputs": [],
   "source": [
    "class City:  \n",
    "    \"\"\"\n",
    "    This is a city class, appropriate for any city around the world.\n",
    "    Attributes\n",
    "    ----------\n",
    "    name : str\n",
    "    This is the name of the city, corresponding to the parameter city_name.\n",
    "    population : float\n",
    "    This is the current population of the city, corresponding to the parameter population.\n",
    "    \"\"\"\n",
    "    \n",
    "    def __init__(self, city_name, population):\n",
    "        self.name = city_name\n",
    "        self.population = population\n",
    "        \n",
    "    def apply_annual_growth(self, growth):\n",
    "        \"\"\"\n",
    "        Apply the growth factor to the city population.\n",
    "        Parameters\n",
    "        ----------\n",
    "        growth : float\n",
    "        Numerical factor by which the population is scaled .\n",
    "        \"\"\"\n",
    "        self.population *= growth\n",
    "        self.population = round (self.population, 2)"
   ]
  },
  {
   "cell_type": "code",
   "execution_count": null,
   "id": "05e6cebf",
   "metadata": {
    "vscode": {
     "languageId": "sage"
    }
   },
   "outputs": [],
   "source": [
    "class RotationCity(City):\n",
    "    def __init__(self, city_name, population, m_class):\n",
    "        City.__init__(self, city_name, population) # Defines the inheritance from the parent class\n",
    "        self.m_class = [m_class]\n",
    "\n",
    "    def add_m_class(self, *mclass): # The * means that the method can take any number of arguments and that Python will collect them into a tuple\n",
    "        \"\"\" With this function we are able to add Minerva classes \"\"\"\n",
    "        self.m_class.extend(mclass)\n",
    "        \n",
    "    def __str__(self):\n",
    "        \"\"\" This function illustrates the Pythonic way to convert an object (instance of a class) into a string \"\"\"\n",
    "        return f\"Minervans in {self.name} are {self.m_class}\" # Here, self.name inherits the city_name from the parent class to use it in a method of the child class."
   ]
  },
  {
   "cell_type": "code",
   "execution_count": null,
   "id": "e8c4c809",
   "metadata": {
    "vscode": {
     "languageId": "sage"
    }
   },
   "outputs": [],
   "source": [
    "berlin = RotationCity(\"Berlin\", 3.6, \"m_23\")\n",
    "berlin.add_m_class(\"m22\")\n",
    "print(berlin)\n",
    "# or using a more explicit call-out\n",
    "print(berlin.__str__())"
   ]
  },
  {
   "cell_type": "code",
   "execution_count": null,
   "id": "f536e793",
   "metadata": {
    "vscode": {
     "languageId": "sage"
    }
   },
   "outputs": [],
   "source": [
    "class BankAccount:\n",
    "    def __init__(self, owner, opening_balance):\n",
    "        if opening_balance < 0:\n",
    "            raise ValueError(\"negative opening balance\")\n",
    "        self.owner = owner\n",
    "        self._balance = float(opening_balance)  # invariant: _balance >= 0\n",
    "\n",
    "    def withdraw(self, amount):\n",
    "        # relies on invariant established in __init__\n",
    "        if amount > self._balance:\n",
    "            raise ValueError(\"insufficient funds\")\n",
    "        self._balance -= amount"
   ]
  },
  {
   "cell_type": "code",
   "execution_count": null,
   "id": "893e9e2b",
   "metadata": {
    "vscode": {
     "languageId": "sage"
    }
   },
   "outputs": [],
   "source": [
    "class Minervan:\n",
    "    \"\"\"\n",
    "    Represents a Minerva student, including their personal and academic details.\n",
    "    Attributes\n",
    "    ----------\n",
    "    name : str\n",
    "    The student's full name.\n",
    "    country : str\n",
    "    The country the student is originally from.\n",
    "    cohort : int\n",
    "    The student's graduation year (e.g., 2025).\n",
    "    major : str\n",
    "    The student's declared major field of study.\n",
    "    \"\"\"\n",
    "    \n",
    "    def __init__(self, name, country=None, cohort=None, major=None):\n",
    "        \"\"\"\n",
    "        Initialize a new Minervan instance with identifying details.\n",
    "\n",
    "        Parameters\n",
    "        ----------\n",
    "        name : str\n",
    "            The student's name.\n",
    "        country : str\n",
    "            The student's home country.\n",
    "        cohort : int\n",
    "            The class year this student belongs to.\n",
    "        major : str\n",
    "            The student's academic major.\n",
    "        \"\"\"\n",
    "        self.name = name\n",
    "        self.country = country\n",
    "        self.cohort = cohort\n",
    "        self.major = major\n",
    "\n",
    "    def __str__(self):\n",
    "        \"\"\"\n",
    "        Return a human-readable string describing this Minervan instance.\n",
    "\n",
    "        Returns\n",
    "        -------\n",
    "        str\n",
    "        A formatted string summarizing the student's key information.\n",
    "        \"\"\"\n",
    "        return f\"This student's name is {self.name}, they are from {self.country}, in the class of {self.cohort}, majoring in {self.major}\"\n",
    "    \n",
    "    def change_major(self, new_major):\n",
    "        \"\"\"\n",
    "        Parameters\n",
    "        ----------\n",
    "        new_major : str\n",
    "            The student's new_major to change the instance attribute.\n",
    "        \"\"\"\n",
    "        self.major = new_major\n",
    "        \n",
    "    def gap_year(self):\n",
    "        \"\"\"\n",
    "        Adds one year to the cohort of the student\n",
    "        \"\"\"\n",
    "        self.cohort += 1\n",
    "\n",
    "jake = Minervan(\"Jake\", \"Australia\", 2025, \"CS\")\n",
    "print(f\"Before change of major: \\n{jake}\")\n",
    "\n",
    "jake.change_major(\"NS\")\n",
    "print(f\"After change of major: \\n{jake}\")\n",
    "\n",
    "jake.gap_year()\n",
    "print(f\"{jake.name}'s status after gap year: \\n{jake}\")"
   ]
  },
  {
   "cell_type": "code",
   "execution_count": null,
   "id": "e4b86715",
   "metadata": {
    "vscode": {
     "languageId": "sage"
    }
   },
   "outputs": [],
   "source": [
    "class Class:\n",
    "    def __init__(self, graduation_year, size):\n",
    "        self.graduation_year = graduation_year\n",
    "        self.size = size\n",
    "    \n",
    "    def __str__(self):\n",
    "        return f\"This is the class of {self.graduation_year}, which has {self.size} students.\""
   ]
  },
  {
   "cell_type": "code",
   "execution_count": null,
   "id": "9176fa0c",
   "metadata": {
    "vscode": {
     "languageId": "sage"
    }
   },
   "outputs": [],
   "source": [
    "M_24 = Class(2024, 120)\n",
    "M_25 = Class(2025, 150)\n",
    "M_26 = Class(2026, 140)\n",
    "\n",
    "print(M_24)\n",
    "print(M_25)\n",
    "print(M_26)"
   ]
  },
  {
   "cell_type": "code",
   "execution_count": null,
   "id": "c51f0e0f",
   "metadata": {
    "vscode": {
     "languageId": "sage"
    }
   },
   "outputs": [],
   "source": [
    "# Just pasting the code I already wrote in the previous code cell\n",
    "class Minervan(Class):\n",
    "    def __init__(self, name, graduation_year, size, country=None, major=None):\n",
    "        Class.__init__(self, graduation_year, size) # Here, we can also use super().__init__()\n",
    "        \n",
    "        self.name = name\n",
    "        self.country = country\n",
    "        self.major = major\n",
    "\n",
    "    def __str__(self):\n",
    "        return f\"Student: {self.name} | Major: {self.major} | Class of: {self.graduation_year}\""
   ]
  },
  {
   "cell_type": "code",
   "execution_count": null,
   "id": "fadd6275",
   "metadata": {
    "vscode": {
     "languageId": "sage"
    }
   },
   "outputs": [],
   "source": [
    "student_a = Minervan(name=\"Sebastian\", graduation_year=2028, size=120, country=\"Mexico\", major=\"CS\")\n",
    "student_b = Minervan(name=\"Litong\", graduation_year=2028, size=120, country=\"China\", major=\"BS\")\n",
    "student_c = Minervan(name=\"Tina\", graduation_year=2028, size=120, country=\"Germany\", major=\"AH\")\n",
    "\n",
    "print(student_a)\n",
    "print(student_b)\n",
    "print(student_c)"
   ]
  },
  {
   "cell_type": "code",
   "execution_count": null,
   "id": "8f9ce782",
   "metadata": {
    "vscode": {
     "languageId": "sage"
    }
   },
   "outputs": [],
   "source": [
    "print(f\"There are {student_a.size} students in {student_a.name}'s cohort.\")"
   ]
  }
 ],
 "metadata": {
  "language_info": {
   "name": "python"
  }
 },
 "nbformat": 4,
 "nbformat_minor": 5
}
